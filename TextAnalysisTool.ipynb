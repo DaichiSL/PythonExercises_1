{
  "nbformat": 4,
  "nbformat_minor": 0,
  "metadata": {
    "colab": {
      "provenance": [],
      "toc_visible": true,
      "authorship_tag": "ABX9TyOYPGdel6Sbtc40K7Z6ctFJ",
      "include_colab_link": true
    },
    "kernelspec": {
      "name": "python3",
      "display_name": "Python 3"
    },
    "language_info": {
      "name": "python"
    }
  },
  "cells": [
    {
      "cell_type": "markdown",
      "metadata": {
        "id": "view-in-github",
        "colab_type": "text"
      },
      "source": [
        "<a href=\"https://colab.research.google.com/github/DaichiSL/PythonExercises_1/blob/main/TextAnalysisTool.ipynb\" target=\"_parent\"><img src=\"https://colab.research.google.com/assets/colab-badge.svg\" alt=\"Open In Colab\"/></a>"
      ]
    },
    {
      "cell_type": "markdown",
      "source": [
        "Brad Daichi Suwaki Lopez 1729288"
      ],
      "metadata": {
        "id": "XwKEOVkDBUrL"
      }
    },
    {
      "cell_type": "code",
      "execution_count": 26,
      "metadata": {
        "colab": {
          "base_uri": "https://localhost:8080/"
        },
        "id": "mWAK2EK73Huo",
        "outputId": "6c829071-6b7f-4713-bf3f-fe32dfdccca1"
      },
      "outputs": [
        {
          "output_type": "stream",
          "name": "stdout",
          "text": [
            "Number of words: 250\n",
            "Number of sentences: 15\n",
            "Number of paragraphs: 3\n",
            "Average word length: 5.64\n",
            "Most common words:\n",
            "the: 15\n",
            "python: 9\n",
            "and: 9\n",
            "a: 9\n",
            "is: 6\n",
            "to: 6\n",
            "in: 4\n",
            "of: 4\n",
            "program: 4\n",
            "an: 3\n"
          ]
        }
      ],
      "source": [
        "import re\n",
        "from collections import Counter\n",
        "\n",
        "def read_text_file(filename):\n",
        "    try:\n",
        "        with open(filename, 'r', encoding='utf-8') as file:\n",
        "            text = file.read()\n",
        "        return text\n",
        "    except FileNotFoundError:\n",
        "        print(f\"File '{filename}' not found.\")\n",
        "        return None\n",
        "\n",
        "def count_words(text):\n",
        "    words = text.split()\n",
        "    return len(words)\n",
        "\n",
        "def count_sentences(text):\n",
        "    sentences = re.split(r'[.!?]', text)\n",
        "    return len(sentences)\n",
        "\n",
        "def count_paragraphs(text):\n",
        "    paragraphs = re.split(r'\\n\\s*\\n', text)\n",
        "    return len(paragraphs)\n",
        "\n",
        "def calculate_average_word_length(text):\n",
        "    words = text.split()\n",
        "    total_word_length = sum(len(word) for word in words)\n",
        "    return total_word_length / len(words) if len(words) > 0 else 0\n",
        "\n",
        "def identify_most_common_words(text, num_words=10):\n",
        "    words = re.findall(r'\\b\\w+\\b', text.lower())\n",
        "    word_counts = Counter(words)\n",
        "    most_common_words = word_counts.most_common(num_words)\n",
        "    return most_common_words\n",
        "\n",
        "if __name__ == \"__main__\":\n",
        "    filename = \"sample.txt\"  # Replace with the path to your text file\n",
        "    text = read_text_file(filename)\n",
        "\n",
        "    if text:\n",
        "        num_words = count_words(text)\n",
        "        num_sentences = count_sentences(text)\n",
        "        num_paragraphs = count_paragraphs(text)\n",
        "        average_word_length = calculate_average_word_length(text)\n",
        "        most_common_words = identify_most_common_words(text)\n",
        "\n",
        "        print(f\"Number of words: {num_words}\")\n",
        "        print(f\"Number of sentences: {num_sentences}\")\n",
        "        print(f\"Number of paragraphs: {num_paragraphs}\")\n",
        "        print(f\"Average word length: {average_word_length:.2f}\")\n",
        "        print(\"Most common words:\")\n",
        "        for word, count in most_common_words:\n",
        "            print(f\"{word}: {count}\")\n"
      ]
    }
  ]
}