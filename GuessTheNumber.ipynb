{
  "nbformat": 4,
  "nbformat_minor": 0,
  "metadata": {
    "colab": {
      "provenance": [],
      "authorship_tag": "ABX9TyPMS4NDGh1bITWd1a+yap2R",
      "include_colab_link": true
    },
    "kernelspec": {
      "name": "python3",
      "display_name": "Python 3"
    },
    "language_info": {
      "name": "python"
    }
  },
  "cells": [
    {
      "cell_type": "markdown",
      "metadata": {
        "id": "view-in-github",
        "colab_type": "text"
      },
      "source": [
        "<a href=\"https://colab.research.google.com/github/DaichiSL/PythonExercises_1/blob/main/GuessTheNumber.ipynb\" target=\"_parent\"><img src=\"https://colab.research.google.com/assets/colab-badge.svg\" alt=\"Open In Colab\"/></a>"
      ]
    },
    {
      "cell_type": "markdown",
      "source": [
        "Brad Daichi Suwaki Lopez 1729288 N4"
      ],
      "metadata": {
        "id": "gamZOQKLLq-z"
      }
    },
    {
      "cell_type": "code",
      "execution_count": 1,
      "metadata": {
        "colab": {
          "base_uri": "https://localhost:8080/"
        },
        "id": "nsjsIq8hLecQ",
        "outputId": "78f2e513-331e-44a6-8300-0ebc63cb4012"
      },
      "outputs": [
        {
          "output_type": "stream",
          "name": "stdout",
          "text": [
            "Welcome to the Number Guessing Game!\n",
            "I've selected a random number between 1 and 100.\n",
            "Guess the number: 50\n",
            "The target number is higher. Try again.\n",
            "Guess the number: 75\n",
            "The target number is higher. Try again.\n",
            "Guess the number: 88\n",
            "The target number is higher. Try again.\n",
            "Guess the number: 94\n",
            "The target number is higher. Try again.\n",
            "Guess the number: 98\n",
            "The target number is lower. Try again.\n",
            "Guess the number: 96\n",
            "The target number is lower. Try again.\n",
            "Guess the number: 95\n",
            "Congratulations! You guessed the number 95 in 7 attempts.\n"
          ]
        }
      ],
      "source": [
        "import random\n",
        "\n",
        "# Generate a random number between 1 and 100\n",
        "target_number = random.randint(1, 100)\n",
        "\n",
        "# Function to play the number guessing game\n",
        "def play_number_guessing_game():\n",
        "    print(\"Welcome to the Number Guessing Game!\")\n",
        "    print(\"I've selected a random number between 1 and 100.\")\n",
        "\n",
        "    attempts = 0\n",
        "\n",
        "    while True:\n",
        "        guess = input(\"Guess the number: \")\n",
        "\n",
        "        try:\n",
        "            guess = int(guess)\n",
        "        except ValueError:\n",
        "            print(\"Invalid input. Please enter a valid number.\")\n",
        "            continue\n",
        "\n",
        "        attempts += 1\n",
        "\n",
        "        if guess < target_number:\n",
        "            print(\"The target number is higher. Try again.\")\n",
        "        elif guess > target_number:\n",
        "            print(\"The target number is lower. Try again.\")\n",
        "        else:\n",
        "            print(f\"Congratulations! You guessed the number {target_number} in {attempts} attempts.\")\n",
        "            break\n",
        "\n",
        "# Start the game\n",
        "play_number_guessing_game()\n"
      ]
    }
  ]
}